{
 "cells": [
  {
   "cell_type": "code",
   "execution_count": 1,
   "id": "8e2a13ba-3a31-4bcc-8e08-58c1a59aa9a2",
   "metadata": {},
   "outputs": [
    {
     "data": {
      "image/png": "[encoded data removed]",
      "text/plain": [
       "<Figure size 640x480 with 1 Axes>"
      ]
     },
     "metadata": {},
     "output_type": "display_data"
    }
   ],
   "source": [
    "import matplotlib.pyplot as plt\n",
    "\n",
    "# Line drawing algorithm\n",
    "def draw_line(x1, y1, x2, y2):\n",
    "    is_steep = abs(y2 - y1) > abs(x2 - x1)\n",
    "    if is_steep:\n",
    "        x1, y1 = y1, x1\n",
    "        x2, y2 = y2, x2\n",
    "    sx = 1 if x1 < x2 else -1\n",
    "    sy = 1 if y1 < y2 else -1\n",
    "    dx = abs(x2 - x1)\n",
    "    dy = abs(y2 - y1)\n",
    "    p = 2 * dy - dx\n",
    "    x_values = []\n",
    "    y_values = []\n",
    "    x = x1\n",
    "    y = y1\n",
    "    while True:\n",
    "        if is_steep:\n",
    "            x_values.append(y)\n",
    "            y_values.append(x)\n",
    "        else:\n",
    "            x_values.append(x)\n",
    "            y_values.append(y)\n",
    "        if x == x2 and y == y2:\n",
    "            break\n",
    "        if p < 0:\n",
    "            p += 2 * dy\n",
    "        else:\n",
    "            y += sy\n",
    "            p += 2 * dy - 2 * dx\n",
    "        x += sx\n",
    "    return x_values, y_values\n",
    "\n",
    "# \"R\" shape\n",
    "r_values = []\n",
    "r_values.append(draw_line(-50, 10, -50, -10))  # Left vertical line\n",
    "r_values.append(draw_line(-50, 10, -30, 10))   # Top horizontal line\n",
    "r_values.append(draw_line(-30, 10, -30, 0))    # Right vertical line (top)\n",
    "r_values.append(draw_line(-50, 0, -30, 0))     # Middle horizontal line\n",
    "r_values.append(draw_line(-50, 0, -30, -10))   # Diagonal line for leg\n",
    "\n",
    "# \"A\" shape\n",
    "a_values = []\n",
    "a_values.append(draw_line(-20, -10, -10, 10))  # Left diagonal\n",
    "a_values.append(draw_line(-10, 10, 0, -10))    # Right diagonal\n",
    "a_values.append(draw_line(-15, 0, -5, 0))      # Middle bar\n",
    "\n",
    "# \"S\" shape\n",
    "s_values = []\n",
    "s_values.append(draw_line(10, 10, 30, 10))     # Top horizontal line\n",
    "s_values.append(draw_line(10, 10, 10, 0))      # Left vertical line\n",
    "s_values.append(draw_line(10, 0, 30, 0))       # Middle horizontal line\n",
    "s_values.append(draw_line(30, 0, 30, -10))     # Right vertical line\n",
    "s_values.append(draw_line(10, -10, 30, -10))   # Bottom horizontal line\n",
    "\n",
    "# \"E\" shape\n",
    "e_values = []\n",
    "e_values.append(draw_line(40, 10, 55, 10))     # Top horizontal line\n",
    "e_values.append(draw_line(40, 0, 50, 0))       # Middle horizontal line\n",
    "e_values.append(draw_line(40, -10, 55, -10))   # Bottom horizontal line\n",
    "e_values.append(draw_line(40, 10, 40, -10))    # Left vertical line\n",
    "\n",
    "# \"L\" shape\n",
    "l_values = []\n",
    "l_values.append(draw_line(65, 10, 65, -10))    # Left vertical line\n",
    "l_values.append(draw_line(65, -10, 75, -10))   # Bottom horizontal line\n",
    "\n",
    "# Combining all line values\n",
    "all_values = r_values + a_values + s_values + e_values + l_values\n",
    "\n",
    "# Unpacking\n",
    "x_values, y_values = zip(*all_values)\n",
    "x_values = [item for sublist in x_values for item in (sublist + [None])]\n",
    "y_values = [item for sublist in y_values for item in (sublist + [None])]\n",
    "\n",
    "# Plotting function\n",
    "def plot_func():\n",
    "    plt.plot(x_values, y_values, color='black')\n",
    "    plt.title(\"RASEL\")\n",
    "    plt.xlabel(\"x-axis\")\n",
    "    plt.ylabel(\"y-axis\")\n",
    "    plt.axis(\"equal\")\n",
    "    plt.show()\n",
    "\n",
    "plot_func()\n"
   ]
  },
  {
   "cell_type": "code",
   "execution_count": null,
   "id": "13296f5e-f4bf-41c2-9e2e-01886321d3b7",
   "metadata": {},
   "outputs": [],
   "source": []
  }
 ],
 "metadata": {
  "kernelspec": {
   "display_name": "Python 3 (ipykernel)",
   "language": "python",
   "name": "python3"
  },
  "language_info": {
   "codemirror_mode": {
    "name": "ipython",
    "version": 3
   },
   "file_extension": ".py",
   "mimetype": "text/x-python",
   "name": "python",
   "nbconvert_exporter": "python",
   "pygments_lexer": "ipython3",
   "version": "3.12.7"
  }
 },
 "nbformat": 4,
 "nbformat_minor": 5
}
