{
 "cells": [
  {
   "cell_type": "code",
   "execution_count": 1,
   "id": "65c36995-f352-44ac-bd2f-3b29c2e23d52",
   "metadata": {},
   "outputs": [
    {
     "data": {
      "image/png": "[encoded data removed]",
      "text/plain": [
       "<Figure size 640x480 with 1 Axes>"
      ]
     },
     "metadata": {},
     "output_type": "display_data"
    }
   ],
   "source": [
    "import matplotlib.pyplot as plt\n",
    "\n",
    "# Line drawing algorithm\n",
    "def draw_line(x1, y1, x2, y2):\n",
    "    is_steep = abs(y2 - y1) > abs(x2 - x1)\n",
    "    if is_steep:\n",
    "        x1, y1 = y1, x1\n",
    "        x2, y2 = y2, x2\n",
    "    sx = 1 if x1 < x2 else -1\n",
    "    sy = 1 if y1 < y2 else -1\n",
    "    dx = abs(x2 - x1)\n",
    "    dy = abs(y2 - y1)\n",
    "    p = 2 * dy - dx\n",
    "    x_values = []\n",
    "    y_values = []\n",
    "    x = x1\n",
    "    y = y1\n",
    "    while True:\n",
    "        if is_steep:\n",
    "            x_values.append(y)\n",
    "            y_values.append(x)\n",
    "        else:\n",
    "            x_values.append(x)\n",
    "            y_values.append(y)\n",
    "        if x == x2 and y == y2:\n",
    "            break\n",
    "        if p < 0:\n",
    "            p += 2 * dy\n",
    "        else:\n",
    "            y += sy\n",
    "            p += 2 * dy - 2 * dx\n",
    "        x += sx\n",
    "    return x_values, y_values\n",
    "\n",
    "# \"S\" shape\n",
    "s_values = []\n",
    "s_values.append(draw_line(-45, 10, -25, 10))  # Top horizontal line\n",
    "s_values.append(draw_line(-45, 10, -45, 0))   # Left vertical line\n",
    "s_values.append(draw_line(-45, 0, -25, 0))    # Middle horizontal line\n",
    "s_values.append(draw_line(-25, 0, -25, -10))  # Right vertical line\n",
    "s_values.append(draw_line(-45, -10, -25, -10)) # Bottom horizontal line\n",
    "\n",
    "# \"W\" shape\n",
    "w_values = []\n",
    "w_values.append(draw_line(-15, 10, -15, -10))     # Left vertical line\n",
    "w_values.append(draw_line(-15, -10, -5, -5))      # First diagonal\n",
    "w_values.append(draw_line(-5, -5, 5, -10))        # Second diagonal\n",
    "w_values.append(draw_line(5, -10, 5, 10))         # Right vertical line\n",
    "\n",
    "# \"E\" shape\n",
    "e_values = []\n",
    "e_values.append(draw_line(15, 10, 35, 10))        # Top horizontal line\n",
    "e_values.append(draw_line(15, 0, 30, 0))          # Middle horizontal line\n",
    "e_values.append(draw_line(15, -10, 35, -10))      # Bottom horizontal line\n",
    "e_values.append(draw_line(15, 10, 15, -10))       # Left vertical line\n",
    "\n",
    "# \"1\" shape\n",
    "one_values = []\n",
    "one_values.append(draw_line(45, 10, 45, -10))     # Vertical line for \"1\"\n",
    "\n",
    "# \"9\" shape\n",
    "nine_values = []\n",
    "nine_values.append(draw_line(55, 10, 75, 10))     # Top horizontal line\n",
    "nine_values.append(draw_line(55, 10, 55, 0))      # Left vertical line\n",
    "nine_values.append(draw_line(75, 10, 75, 0))      # Right vertical line\n",
    "nine_values.append(draw_line(55, 0, 75, 0))       # Middle horizontal line\n",
    "nine_values.append(draw_line(75, 0, 75, -10))     # Bottom right vertical line\n",
    "nine_values.append(draw_line(65, 0, 65, -10))     # Inner vertical line for \"9\"\n",
    "\n",
    "# Combining all line values\n",
    "all_values = s_values + w_values + e_values + one_values + nine_values\n",
    "\n",
    "# Unpacking\n",
    "x_values, y_values = zip(*all_values)\n",
    "x_values = [item for sublist in x_values for item in (sublist + [None])]\n",
    "y_values = [item for sublist in y_values for item in (sublist + [None])]\n",
    "\n",
    "# Plotting function\n",
    "def plot_func():\n",
    "    plt.plot(x_values, y_values, color='black')\n",
    "    plt.title(\"SWE19\")\n",
    "    plt.xlabel(\"x-axis\")\n",
    "    plt.ylabel(\"y-axis\")\n",
    "    plt.axis(\"equal\")\n",
    "    plt.show()\n",
    "\n",
    "plot_func()\n"
   ]
  },
  {
   "cell_type": "code",
   "execution_count": null,
   "id": "c4b4e117-0dd7-45bd-8bf9-60bb420a31a5",
   "metadata": {},
   "outputs": [],
   "source": []
  },
  {
   "cell_type": "code",
   "execution_count": null,
   "id": "27ce19ea-c729-4dfc-8641-73939a0fbef2",
   "metadata": {},
   "outputs": [],
   "source": []
  }
 ],
 "metadata": {
  "kernelspec": {
   "display_name": "Python 3 (ipykernel)",
   "language": "python",
   "name": "python3"
  },
  "language_info": {
   "codemirror_mode": {
    "name": "ipython",
    "version": 3
   },
   "file_extension": ".py",
   "mimetype": "text/x-python",
   "name": "python",
   "nbconvert_exporter": "python",
   "pygments_lexer": "ipython3",
   "version": "3.12.7"
  }
 },
 "nbformat": 4,
 "nbformat_minor": 5
}
