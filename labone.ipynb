{
 "cells": [
  {
   "cell_type": "code",
   "execution_count": 5,
   "id": "98558139-d80b-4688-ba25-9639ea704954",
   "metadata": {},
   "outputs": [
    {
     "data": {
      "image/png": "[encoded data removed]",
      "text/plain": [
       "<Figure size 640x480 with 1 Axes>"
      ]
     },
     "metadata": {},
     "output_type": "display_data"
    }
   ],
   "source": [
    "import matplotlib.pyplot as plt\n",
    "\n",
    "# Line drawing algorithm\n",
    "def draw_line(x1, y1, x2, y2):\n",
    "    is_steep = abs(y2 - y1) > abs(x2 - x1)\n",
    "    if is_steep:\n",
    "        x1, y1 = y1, x1\n",
    "        x2, y2 = y2, x2\n",
    "    sx = 1 if x1 < x2 else -1\n",
    "    sy = 1 if y1 < y2 else -1\n",
    "    dx = abs(x2 - x1)\n",
    "    dy = abs(y2 - y1)\n",
    "    p = 2 * dy - dx\n",
    "    x_values = []\n",
    "    y_values = []\n",
    "    x = x1\n",
    "    y = y1\n",
    "    while True:\n",
    "        if is_steep:\n",
    "            x_values.append(y)\n",
    "            y_values.append(x)\n",
    "        else:\n",
    "            x_values.append(x)\n",
    "            y_values.append(y)\n",
    "        if x == x2 and y == y2:\n",
    "            break\n",
    "        if p < 0:\n",
    "            p += 2 * dy\n",
    "        else:\n",
    "            y += sy\n",
    "            p += 2 * dy - 2 * dx\n",
    "        x += sx\n",
    "    return x_values, y_values\n",
    "\n",
    "\n",
    "# \"W\" shape\n",
    "w_values = []\n",
    "w_values.append(draw_line(0, 10, 0, -10))     # Left vertical line\n",
    "w_values.append(draw_line(0, -10, 10, -5))    # First diagonal\n",
    "w_values.append(draw_line(10, -5, 20, -10))   # Second diagonal\n",
    "w_values.append(draw_line(20, -10, 20, 10))   # Right vertical line\n",
    "\n",
    "# \"L\" shape with dotted style\n",
    "l_values = []\n",
    "l_values.append(draw_line(30, 10, 30, -10))   # Vertical line of \"L\"\n",
    "l_values.append(draw_line(30, -10, 50, -10))  # Bottom horizontal line of \"L\"\n",
    "\n",
    "# Combining all line values\n",
    "all_values = w_values + l_values\n",
    "# Unpacking\n",
    "x_values, y_values = zip(*all_values)\n",
    "x_values = [item for sublist in x_values for item in (sublist + [None])]\n",
    "y_values = [item for sublist in y_values for item in (sublist + [None])]\n",
    "\n",
    "# Plotting function\n",
    "def plot_func():\n",
    "    plt.plot(x_values, y_values, color='black')\n",
    "    plt.title(\"SWE\")\n",
    "    plt.xlabel(\"x-axis\")\n",
    "    plt.ylabel(\"y-axis\")\n",
    "    plt.axis(\"equal\")\n",
    "    plt.show()\n",
    "\n",
    "plot_func()\n"
   ]
  },
  {
   "cell_type": "code",
   "execution_count": null,
   "id": "b943dd00-b66e-4fe9-8d75-4ff94fe505d6",
   "metadata": {},
   "outputs": [],
   "source": []
  }
 ],
 "metadata": {
  "kernelspec": {
   "display_name": "Python 3 (ipykernel)",
   "language": "python",
   "name": "python3"
  },
  "language_info": {
   "codemirror_mode": {
    "name": "ipython",
    "version": 3
   },
   "file_extension": ".py",
   "mimetype": "text/x-python",
   "name": "python",
   "nbconvert_exporter": "python",
   "pygments_lexer": "ipython3",
   "version": "3.12.7"
  }
 },
 "nbformat": 4,
 "nbformat_minor": 5
}
