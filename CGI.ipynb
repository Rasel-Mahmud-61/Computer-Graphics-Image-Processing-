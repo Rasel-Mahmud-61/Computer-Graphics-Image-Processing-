{
 "cells": [
  {
   "cell_type": "code",
   "execution_count": 1,
   "id": "53dc049c-6f06-427e-bea4-1c7867b124fe",
   "metadata": {},
   "outputs": [
    {
     "data": {
      "image/png": "[encoded data removed]",
      "text/plain": [
       "<Figure size 640x480 with 1 Axes>"
      ]
     },
     "metadata": {},
     "output_type": "display_data"
    }
   ],
   "source": [
    "import matplotlib.pyplot as plt\n",
    "\n",
    "# Line drawing algorithm\n",
    "def draw_line(x1, y1, x2, y2):\n",
    "    is_steep = abs(y2 - y1) > abs(x2 - x1)\n",
    "    if is_steep:\n",
    "        x1, y1 = y1, x1\n",
    "        x2, y2 = y2, x2\n",
    "    sx = 1 if x1 < x2 else -1\n",
    "    sy = 1 if y1 < y2 else -1\n",
    "    dx = abs(x2 - x1)\n",
    "    dy = abs(y2 - y1)\n",
    "    p = 2 * dy - dx\n",
    "    x_values = []\n",
    "    y_values = []\n",
    "    x = x1\n",
    "    y = y1\n",
    "    while True:\n",
    "        if is_steep:\n",
    "            x_values.append(y)\n",
    "            y_values.append(x)\n",
    "        else:\n",
    "            x_values.append(x)\n",
    "            y_values.append(y)\n",
    "        if x == x2 and y == y2:\n",
    "            break\n",
    "        if p < 0:\n",
    "            p += 2 * dy\n",
    "        else:\n",
    "            y += sy\n",
    "            p += 2 * dy - 2 * dx\n",
    "        x += sx\n",
    "    return x_values, y_values\n",
    "\n",
    "# \"C\" shape\n",
    "c_values = []\n",
    "c_values.append(draw_line(-50, 10, -30, 10))   # Top horizontal line\n",
    "c_values.append(draw_line(-50, 10, -50, -10))  # Left vertical line\n",
    "c_values.append(draw_line(-50, -10, -30, -10)) # Bottom horizontal line\n",
    "\n",
    "# \"G\" shape\n",
    "g_values = []\n",
    "g_values.append(draw_line(-10, 10, 10, 10))    # Top horizontal line\n",
    "g_values.append(draw_line(-10, 10, -10, -10))  # Left vertical line\n",
    "g_values.append(draw_line(-10, -10, 10, -10))  # Bottom horizontal line\n",
    "g_values.append(draw_line(0, 0, 10, 0))        # Inner horizontal line\n",
    "g_values.append(draw_line(10, 0, 10, -10))     # Right vertical line for \"G\"\n",
    "\n",
    "# \"I\" shape\n",
    "i_values = []\n",
    "i_values.append(draw_line(20, 10, 30, 10))     # Top horizontal line\n",
    "i_values.append(draw_line(25, 10, 25, -10))    # Vertical line\n",
    "i_values.append(draw_line(20, -10, 30, -10))   # Bottom horizontal line\n",
    "\n",
    "# Combining all line values\n",
    "all_values = c_values + g_values + i_values\n",
    "\n",
    "# Unpacking\n",
    "x_values, y_values = zip(*all_values)\n",
    "x_values = [item for sublist in x_values for item in (sublist + [None])]\n",
    "y_values = [item for sublist in y_values for item in (sublist + [None])]\n",
    "\n",
    "# Plotting function\n",
    "def plot_func():\n",
    "    plt.plot(x_values, y_values, color='black')\n",
    "    plt.title(\"CGI\")\n",
    "    plt.xlabel(\"x-axis\")\n",
    "    plt.ylabel(\"y-axis\")\n",
    "    plt.axis(\"equal\")\n",
    "    plt.show()\n",
    "\n",
    "plot_func()\n"
   ]
  },
  {
   "cell_type": "code",
   "execution_count": null,
   "id": "576f6d26-d4ce-4a17-a164-b616742d0c57",
   "metadata": {},
   "outputs": [],
   "source": []
  }
 ],
 "metadata": {
  "kernelspec": {
   "display_name": "Python 3 (ipykernel)",
   "language": "python",
   "name": "python3"
  },
  "language_info": {
   "codemirror_mode": {
    "name": "ipython",
    "version": 3
   },
   "file_extension": ".py",
   "mimetype": "text/x-python",
   "name": "python",
   "nbconvert_exporter": "python",
   "pygments_lexer": "ipython3",
   "version": "3.12.7"
  }
 },
 "nbformat": 4,
 "nbformat_minor": 5
}
